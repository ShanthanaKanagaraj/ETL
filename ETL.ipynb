{
 "cells": [
  {
   "cell_type": "code",
   "execution_count": 186,
   "id": "49a3da76",
   "metadata": {},
   "outputs": [
    {
     "name": "stdout",
     "output_type": "stream",
     "text": [
      "Defaulting to user installation because normal site-packages is not writeable\n",
      "Requirement already satisfied: pymysql in c:\\users\\nishanthi\\appdata\\roaming\\python\\python39\\site-packages (1.1.0)\n"
     ]
    }
   ],
   "source": [
    "! pip3 install pymysql"
   ]
  },
  {
   "cell_type": "code",
   "execution_count": 6,
   "id": "f5096331",
   "metadata": {},
   "outputs": [
    {
     "name": "stdout",
     "output_type": "stream",
     "text": [
      "DS_mini_project gene\n",
      "conversion done\n",
      "Done\n"
     ]
    }
   ],
   "source": [
    "import csv\n",
    "import pymysql as sql \n",
    "\n",
    "def convert_txt_csv(filename):\n",
    "    final = []\n",
    "    with open(filename) as f1:\n",
    "        data = csv.reader(f1)\n",
    "        gene = next(data)[0].split()[0]\n",
    "        gene_id = next(data)[0].split()[2]\n",
    "        #gene = gene[0].split()[0]         #print(gene)\n",
    "        #gene_id = gene_id[0].split()[2]   #print(gene_id)\n",
    "    \n",
    "        check = False\n",
    "        exon_no = 0\n",
    "    \n",
    "        for line in data:\n",
    "            if len(line) > 0  and 'NM' in line[0]:\n",
    "                check = True\n",
    "                trans_id = line[0].split()[4]\n",
    "                exon_no = 0\n",
    "                #print(trans_id)\n",
    "            if check:\n",
    "                if len(line) > 0 and '-' in line[0]:\n",
    "                    stend = line[0].split()[0]\n",
    "                    start = stend.split('-')[0]\n",
    "                    end = stend.split('-')[1]\n",
    "                    if end != '' and start != '':\n",
    "                        exon_no += 1\n",
    "                        size = int(start) - int(end)\n",
    "                        final.append([gene, gene_id, trans_id,exon_no, start, end, size])\n",
    "                        #print(size)\n",
    "                    #print(start)\n",
    "                    #print(end)\n",
    "    #print(final)\n",
    "    print(\"conversion done\")\n",
    "    with open('ETL.csv','w',newline='') as f1:\n",
    "        cs_wr = csv.writer(f1)\n",
    "        cs_wr.writerow(['Gene', 'Gene_ID', 'Trans_ID','Exon_no', 'Start', 'End', 'Size'])\n",
    "        cs_wr.writerows(final)\n",
    "\n",
    "\n",
    "def create_database(db_name):\n",
    "    connection = sql.connect(host = 'localhost',\n",
    "                        user = 'root',\n",
    "                        port = 3306,\n",
    "                        password = 'shansk@09')\n",
    "\n",
    "    db = connection.cursor()\n",
    "\n",
    "    db.execute(\"create database if not exists %s\"%(db_name))\n",
    "    connection.commit()\n",
    "\n",
    "    db.close()\n",
    "    connection.close()\n",
    "\n",
    "def create_table(db_name,tb_name,column_list):\n",
    "    \n",
    "    tb_col = ','.join([\"%s varchar(250)\"%(i) for i in column_list])\n",
    "    connection = sql.connect(host = 'localhost',\n",
    "                        user = 'root',\n",
    "                        port = 3306,\n",
    "                        password = 'shansk@09',\n",
    "                        database = db_name)\n",
    "\n",
    "    db = connection.cursor()\n",
    "    db.execute(\"create table if not exists %s (%s)\"%(tb_name,tb_col))\n",
    "    connection.commit()\n",
    "\n",
    "    db.close()\n",
    "    connection.close()\n",
    "    \n",
    "def upload_data(db_name,tb_name,col_list,data_list):\n",
    "    col_nam = ','.join(col_list)\n",
    "    vals = ','.join([\"'%s'\"%(i) for i in data_list])\n",
    "    connection = sql.connect(host = 'localhost',\n",
    "                        user = 'root',\n",
    "                        port = 3306,\n",
    "                        password = 'shansk@09',\n",
    "                        database = db_name)\n",
    "\n",
    "    db = connection.cursor()\n",
    "    db.execute(\"insert into %s (%s) values (%s)\"%(tb_name,col_nam,vals))\n",
    "    connection.commit()\n",
    "\n",
    "    db.close()\n",
    "    connection.close()\n",
    "    \n",
    "\n",
    "if __name__ ==\"__main__\":  \n",
    "    txtfilename = \"gene .txt\"\n",
    "    db_name = \"DS_mini_project\"\n",
    "    fln = \"gene.csv\"\n",
    "    tb_name = fln.replace(\".csv\",\"\")\n",
    "    print(db_name,tb_name)\n",
    "    \n",
    "    convert_txt_csv(txtfilename)\n",
    "    create_database(db_name)\n",
    "    \n",
    "    with open(\"ETL.csv\") as f1:\n",
    "        c_read = csv.reader(f1)\n",
    "        hd = next(c_read)\n",
    "        #print(hd)\n",
    "        create_table(db_name,tb_name,hd)\n",
    "        for line in c_read:\n",
    "            #print(line)\n",
    "             upload_data(db_name,tb_name,hd,line)\n",
    "        \n",
    "    print(\"Done\")\n",
    "    \n"
   ]
  },
  {
   "cell_type": "code",
   "execution_count": null,
   "id": "e5d246a5",
   "metadata": {},
   "outputs": [],
   "source": []
  },
  {
   "cell_type": "code",
   "execution_count": null,
   "id": "5f6fce0e",
   "metadata": {},
   "outputs": [],
   "source": []
  },
  {
   "cell_type": "code",
   "execution_count": null,
   "id": "ab41af82",
   "metadata": {},
   "outputs": [],
   "source": []
  },
  {
   "cell_type": "code",
   "execution_count": 189,
   "id": "09185625",
   "metadata": {},
   "outputs": [],
   "source": []
  }
 ],
 "metadata": {
  "kernelspec": {
   "display_name": "Python 3 (ipykernel)",
   "language": "python",
   "name": "python3"
  },
  "language_info": {
   "codemirror_mode": {
    "name": "ipython",
    "version": 3
   },
   "file_extension": ".py",
   "mimetype": "text/x-python",
   "name": "python",
   "nbconvert_exporter": "python",
   "pygments_lexer": "ipython3",
   "version": "3.9.12"
  }
 },
 "nbformat": 4,
 "nbformat_minor": 5
}
